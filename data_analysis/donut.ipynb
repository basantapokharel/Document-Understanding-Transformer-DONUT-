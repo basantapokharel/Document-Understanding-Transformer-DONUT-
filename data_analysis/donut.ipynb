{
 "cells": [
  {
   "cell_type": "code",
   "execution_count": 1,
   "id": "94e309a1",
   "metadata": {},
   "outputs": [
    {
     "name": "stderr",
     "output_type": "stream",
     "text": [
      "c:\\Users\\acer\\Desktop\\DONUT\\env\\lib\\site-packages\\tqdm\\auto.py:21: TqdmWarning: IProgress not found. Please update jupyter and ipywidgets. See https://ipywidgets.readthedocs.io/en/stable/user_install.html\n",
      "  from .autonotebook import tqdm as notebook_tqdm\n"
     ]
    }
   ],
   "source": [
    "# import required packages\n",
    "from datasets import load_dataset"
   ]
  },
  {
   "cell_type": "code",
   "execution_count": 2,
   "metadata": {},
   "outputs": [
    {
     "data": {
      "text/plain": [
       "DatasetDict({\n",
       "    train: Dataset({\n",
       "        features: ['image', 'ground_truth'],\n",
       "        num_rows: 425\n",
       "    })\n",
       "    validation: Dataset({\n",
       "        features: ['image', 'ground_truth'],\n",
       "        num_rows: 50\n",
       "    })\n",
       "    test: Dataset({\n",
       "        features: ['image', 'ground_truth'],\n",
       "        num_rows: 26\n",
       "    })\n",
       "})"
      ]
     },
     "execution_count": 2,
     "metadata": {},
     "output_type": "execute_result"
    }
   ],
   "source": [
    "# Load the dataset\n",
    "dataset = load_dataset(\"katanaml-org/invoices-donut-data-v1\")\n",
    "dataset"
   ]
  },
  {
   "cell_type": "code",
   "execution_count": 3,
   "metadata": {},
   "outputs": [
    {
     "name": "stdout",
     "output_type": "stream",
     "text": [
      "Dataset Splits: dict_keys(['train', 'validation', 'test'])\n",
      "Train Size: 425\n",
      "Features: {'image': Image(mode=None, decode=True, id=None), 'ground_truth': Value(dtype='string', id=None)}\n"
     ]
    }
   ],
   "source": [
    "# Check basic info\n",
    "print(\"Dataset Splits:\", dataset.keys())\n",
    "print(\"Train Size:\", len(dataset[\"train\"]))\n",
    "print(\"Features:\", dataset[\"train\"].features)"
   ]
  },
  {
   "cell_type": "code",
   "execution_count": 6,
   "id": "f17bf293",
   "metadata": {},
   "outputs": [
    {
     "name": "stdout",
     "output_type": "stream",
     "text": [
      "Keys: dict_keys(['image', 'ground_truth'])\n",
      "Ground Truth JSON:\n",
      " {\"gt_parse\": {\"header\": {\"invoice_no\": \"40378170\", \"invoice_date\": \"10/15/2012\", \"seller\": \"Patel, Thompson and Montgomery 356 Kyle Vista New James, MA 46228\", \"client\": \"Jackson, Odonnell and Jackson 267 John Track Suite 841 Jenniferville, PA 98601\", \"seller_tax_id\": \"958-74-3511\", \"client_tax_id\": \"998-87-7723\", \"iban\": \"GB77WRBQ31965128414006\"}, \"items\": [{\"item_desc\": \"Leed's Wine Companion Bottle Corkscrew Opener Gift Box Set with Foil Cutter\", \"item_qty\": \"1,00\", \"item_net_price\": \"7,50\", \"item_net_worth\": \"7,50\", \"item_vat\": \"10%\", \"item_gross_worth\": \"8,25\"}], \"summary\": {\"total_net_worth\": \"$7,50\", \"total_vat\": \"$0,75\", \"total_gross_worth\": \"$8,25\"}}}\n"
     ]
    }
   ],
   "source": [
    "# Show one example\n",
    "example = dataset[\"train\"][0]\n",
    "print(\"Keys:\", example.keys())\n",
    "\n",
    "# View JSON ground truth\n",
    "print(\"Ground Truth JSON:\\n\", example[\"ground_truth\"])\n",
    "\n",
    "# Show the invoice image\n",
    "example[\"image\"].show()"
   ]
  },
  {
   "cell_type": "code",
   "execution_count": 12,
   "metadata": {},
   "outputs": [
    {
     "data": {
      "text/plain": [
       "{'image': <PIL.JpegImagePlugin.JpegImageFile image mode=RGB size=2481x3508>,\n",
       " 'ground_truth': '{\"gt_parse\": {\"header\": {\"invoice_no\": \"40378170\", \"invoice_date\": \"10/15/2012\", \"seller\": \"Patel, Thompson and Montgomery 356 Kyle Vista New James, MA 46228\", \"client\": \"Jackson, Odonnell and Jackson 267 John Track Suite 841 Jenniferville, PA 98601\", \"seller_tax_id\": \"958-74-3511\", \"client_tax_id\": \"998-87-7723\", \"iban\": \"GB77WRBQ31965128414006\"}, \"items\": [{\"item_desc\": \"Leed\\'s Wine Companion Bottle Corkscrew Opener Gift Box Set with Foil Cutter\", \"item_qty\": \"1,00\", \"item_net_price\": \"7,50\", \"item_net_worth\": \"7,50\", \"item_vat\": \"10%\", \"item_gross_worth\": \"8,25\"}], \"summary\": {\"total_net_worth\": \"$7,50\", \"total_vat\": \"$0,75\", \"total_gross_worth\": \"$8,25\"}}}'}"
      ]
     },
     "execution_count": 12,
     "metadata": {},
     "output_type": "execute_result"
    }
   ],
   "source": [
    "example = dataset[\"train\"][0]\n",
    "example"
   ]
  },
  {
   "cell_type": "code",
   "execution_count": null,
   "metadata": {},
   "outputs": [],
   "source": []
  }
 ],
 "metadata": {
  "kernelspec": {
   "display_name": "env",
   "language": "python",
   "name": "python3"
  },
  "language_info": {
   "codemirror_mode": {
    "name": "ipython",
    "version": 3
   },
   "file_extension": ".py",
   "mimetype": "text/x-python",
   "name": "python",
   "nbconvert_exporter": "python",
   "pygments_lexer": "ipython3",
   "version": "3.9.13"
  }
 },
 "nbformat": 4,
 "nbformat_minor": 5
}
